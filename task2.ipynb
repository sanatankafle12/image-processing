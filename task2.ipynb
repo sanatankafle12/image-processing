{
 "cells": [
  {
   "cell_type": "code",
   "execution_count": 4,
   "metadata": {},
   "outputs": [],
   "source": [
    "import numpy as np\n",
    "import cv2"
   ]
  },
  {
   "cell_type": "code",
   "execution_count": 11,
   "metadata": {},
   "outputs": [],
   "source": [
    "image_file_path = 'images/fish.jpg'\n",
    "color_to_replace = [[0, 200, 200], [255, 255, 255]]\n",
    "replacement_color = [60, 255, 255]"
   ]
  },
  {
   "cell_type": "code",
   "execution_count": 17,
   "metadata": {},
   "outputs": [
    {
     "data": {
      "text/plain": [
       "array([[[225, 229, 218],\n",
       "        [228, 232, 221],\n",
       "        [226, 230, 219],\n",
       "        ...,\n",
       "        [225, 220, 205],\n",
       "        [219, 214, 199],\n",
       "        [219, 214, 199]],\n",
       "\n",
       "       [[224, 228, 217],\n",
       "        [226, 230, 219],\n",
       "        [226, 230, 219],\n",
       "        ...,\n",
       "        [223, 218, 203],\n",
       "        [217, 212, 197],\n",
       "        [213, 208, 193]],\n",
       "\n",
       "       [[224, 228, 217],\n",
       "        [226, 230, 219],\n",
       "        [225, 229, 218],\n",
       "        ...,\n",
       "        [239, 234, 219],\n",
       "        [244, 239, 224],\n",
       "        [236, 231, 216]],\n",
       "\n",
       "       ...,\n",
       "\n",
       "       [[  0,  15,  21],\n",
       "        [  2,  18,  24],\n",
       "        [  4,  21,  24],\n",
       "        ...,\n",
       "        [ 23,  52,  67],\n",
       "        [ 12,  45,  60],\n",
       "        [ 16,  42,  58]],\n",
       "\n",
       "       [[  2,  14,  20],\n",
       "        [  5,  19,  25],\n",
       "        [  5,  19,  25],\n",
       "        ...,\n",
       "        [ 16,  47,  62],\n",
       "        [ 17,  47,  58],\n",
       "        [ 18,  48,  65]],\n",
       "\n",
       "       [[  0,  14,  20],\n",
       "        [  3,  17,  23],\n",
       "        [  4,  18,  24],\n",
       "        ...,\n",
       "        [ 16,  48,  61],\n",
       "        [ 20,  51,  66],\n",
       "        [ 20,  51,  66]]], dtype=uint8)"
      ]
     },
     "execution_count": 17,
     "metadata": {},
     "output_type": "execute_result"
    }
   ],
   "source": [
    "# To load the image\n",
    "image = cv2.imread(image_file_path)\n",
    "image"
   ]
  },
  {
   "cell_type": "code",
   "execution_count": 15,
   "metadata": {},
   "outputs": [
    {
     "data": {
      "text/plain": [
       "array([[[218, 229, 225],\n",
       "        [221, 232, 228],\n",
       "        [219, 230, 226],\n",
       "        ...,\n",
       "        [205, 220, 225],\n",
       "        [199, 214, 219],\n",
       "        [199, 214, 219]],\n",
       "\n",
       "       [[217, 228, 224],\n",
       "        [219, 230, 226],\n",
       "        [219, 230, 226],\n",
       "        ...,\n",
       "        [203, 218, 223],\n",
       "        [197, 212, 217],\n",
       "        [193, 208, 213]],\n",
       "\n",
       "       [[217, 228, 224],\n",
       "        [219, 230, 226],\n",
       "        [218, 229, 225],\n",
       "        ...,\n",
       "        [219, 234, 239],\n",
       "        [224, 239, 244],\n",
       "        [216, 231, 236]],\n",
       "\n",
       "       ...,\n",
       "\n",
       "       [[ 21,  15,   0],\n",
       "        [ 24,  18,   2],\n",
       "        [ 24,  21,   4],\n",
       "        ...,\n",
       "        [ 67,  52,  23],\n",
       "        [ 60,  45,  12],\n",
       "        [ 58,  42,  16]],\n",
       "\n",
       "       [[ 20,  14,   2],\n",
       "        [ 25,  19,   5],\n",
       "        [ 25,  19,   5],\n",
       "        ...,\n",
       "        [ 62,  47,  16],\n",
       "        [ 58,  47,  17],\n",
       "        [ 65,  48,  18]],\n",
       "\n",
       "       [[ 20,  14,   0],\n",
       "        [ 23,  17,   3],\n",
       "        [ 24,  18,   4],\n",
       "        ...,\n",
       "        [ 61,  48,  16],\n",
       "        [ 66,  51,  20],\n",
       "        [ 66,  51,  20]]], dtype=uint8)"
      ]
     },
     "execution_count": 15,
     "metadata": {},
     "output_type": "execute_result"
    }
   ],
   "source": [
    "# Convert image to RGB\n",
    "image_rgb = cv2.cvtColor(image, cv2.COLOR_BGR2RGB)\n",
    "image_rgb"
   ]
  },
  {
   "cell_type": "code",
   "execution_count": 16,
   "metadata": {},
   "outputs": [
    {
     "data": {
      "text/plain": [
       "array([[[ 79,  12, 229],\n",
       "        [ 79,  12, 232],\n",
       "        [ 79,  12, 230],\n",
       "        ...,\n",
       "        [ 98,  23, 225],\n",
       "        [ 98,  23, 219],\n",
       "        [ 98,  23, 219]],\n",
       "\n",
       "       [[ 79,  12, 228],\n",
       "        [ 79,  12, 230],\n",
       "        [ 79,  12, 230],\n",
       "        ...,\n",
       "        [ 98,  23, 223],\n",
       "        [ 98,  24, 217],\n",
       "        [ 98,  24, 213]],\n",
       "\n",
       "       [[ 79,  12, 228],\n",
       "        [ 79,  12, 230],\n",
       "        [ 79,  12, 229],\n",
       "        ...,\n",
       "        [ 98,  21, 239],\n",
       "        [ 98,  21, 244],\n",
       "        [ 98,  22, 236]],\n",
       "\n",
       "       ...,\n",
       "\n",
       "       [[ 21, 255,  21],\n",
       "        [ 22, 234,  24],\n",
       "        [ 26, 213,  24],\n",
       "        ...,\n",
       "        [ 20, 167,  67],\n",
       "        [ 21, 204,  60],\n",
       "        [ 19, 185,  58]],\n",
       "\n",
       "       [[ 20, 230,  20],\n",
       "        [ 21, 204,  25],\n",
       "        [ 21, 204,  25],\n",
       "        ...,\n",
       "        [ 20, 189,  62],\n",
       "        [ 22, 180,  58],\n",
       "        [ 19, 184,  65]],\n",
       "\n",
       "       [[ 21, 255,  20],\n",
       "        [ 21, 222,  23],\n",
       "        [ 21, 213,  24],\n",
       "        ...,\n",
       "        [ 21, 188,  61],\n",
       "        [ 20, 178,  66],\n",
       "        [ 20, 178,  66]]], dtype=uint8)"
      ]
     },
     "execution_count": 16,
     "metadata": {},
     "output_type": "execute_result"
    }
   ],
   "source": [
    "# Convert image to HSV color\n",
    "image_hsv = cv2.cvtColor(image_rgb, cv2.COLOR_RGB2HSV)\n",
    "image_hsv"
   ]
  },
  {
   "cell_type": "code",
   "execution_count": 19,
   "metadata": {},
   "outputs": [
    {
     "data": {
      "text/plain": [
       "array([[0, 0, 0, ..., 0, 0, 0],\n",
       "       [0, 0, 0, ..., 0, 0, 0],\n",
       "       [0, 0, 0, ..., 0, 0, 0],\n",
       "       ...,\n",
       "       [0, 0, 0, ..., 0, 0, 0],\n",
       "       [0, 0, 0, ..., 0, 0, 0],\n",
       "       [0, 0, 0, ..., 0, 0, 0]], dtype=uint8)"
      ]
     },
     "execution_count": 19,
     "metadata": {},
     "output_type": "execute_result"
    }
   ],
   "source": [
    "# Mask For color to replace\n",
    "\n",
    "mask_color = cv2.inRange(image_hsv, np.array(color_to_replace[0]), np.array(color_to_replace[1]))\n",
    "mask_color"
   ]
  },
  {
   "cell_type": "code",
   "execution_count": 20,
   "metadata": {},
   "outputs": [],
   "source": [
    "# Apply morphological transformations to remove small noise\n",
    "kernel = np.ones((9, 9), np.uint8)\n",
    "mask_color = cv2.morphologyEx(mask_color, cv2.MORPH_CLOSE, kernel)\n",
    "mask_color = cv2.morphologyEx(mask_color, cv2.MORPH_OPEN, kernel)"
   ]
  },
  {
   "cell_type": "code",
   "execution_count": 22,
   "metadata": {},
   "outputs": [],
   "source": [
    "# Convert replacement color to HSV format (if needed)\n",
    "replacement_color_hsv = np.array(replacement_color)"
   ]
  },
  {
   "cell_type": "code",
   "execution_count": 23,
   "metadata": {},
   "outputs": [],
   "source": [
    "# Change the color in the HSV image\n",
    "image_hsv[mask_color > 0] = replacement_color_hsv"
   ]
  },
  {
   "cell_type": "code",
   "execution_count": 24,
   "metadata": {},
   "outputs": [],
   "source": [
    "# Convert the HSV image back to RGB\n",
    "image_rgb_new = cv2.cvtColor(image_hsv, cv2.COLOR_HSV2RGB)"
   ]
  },
  {
   "cell_type": "code",
   "execution_count": 25,
   "metadata": {},
   "outputs": [
    {
     "data": {
      "text/plain": [
       "True"
      ]
     },
     "execution_count": 25,
     "metadata": {},
     "output_type": "execute_result"
    }
   ],
   "source": [
    "# Save the output image\n",
    "cv2.imwrite(\"output1.jpg\", cv2.cvtColor(image_rgb_new, cv2.COLOR_BGR2RGB))"
   ]
  }
 ],
 "metadata": {
  "kernelspec": {
   "display_name": "Python 3",
   "language": "python",
   "name": "python3"
  },
  "language_info": {
   "codemirror_mode": {
    "name": "ipython",
    "version": 3
   },
   "file_extension": ".py",
   "mimetype": "text/x-python",
   "name": "python",
   "nbconvert_exporter": "python",
   "pygments_lexer": "ipython3",
   "version": "3.8.10"
  }
 },
 "nbformat": 4,
 "nbformat_minor": 2
}
