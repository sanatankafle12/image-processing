{
 "cells": [
  {
   "cell_type": "code",
   "execution_count": 3,
   "metadata": {},
   "outputs": [
    {
     "data": {
      "text/plain": [
       "340.5"
      ]
     },
     "execution_count": 3,
     "metadata": {},
     "output_type": "execute_result"
    }
   ],
   "source": [
    "from PIL import Image\n",
    "import numpy as np\n",
    "\n",
    "# Load the image\n",
    "image_path = \"circle.jpg\"\n",
    "image = Image.open(image_path)\n",
    "\n",
    "# Convert to grayscale\n",
    "gray_image = image.convert(\"L\")\n",
    "\n",
    "# Binarize the image (thresholding)\n",
    "binary_image = gray_image.point(lambda p: p > 128 and 255)\n",
    "\n",
    "# Find the bounding box of the circle\n",
    "bbox = binary_image.getbbox()\n",
    "\n",
    "# Calculate the radius\n",
    "width = bbox[2] - bbox[0]\n",
    "height = bbox[3] - bbox[1]\n",
    "radius = width / 2\n",
    "\n",
    "radius"
   ]
  },
  {
   "cell_type": "code",
   "execution_count": 4,
   "metadata": {},
   "outputs": [
    {
     "data": {
      "text/plain": [
       "681"
      ]
     },
     "execution_count": 4,
     "metadata": {},
     "output_type": "execute_result"
    }
   ],
   "source": [
    "width"
   ]
  },
  {
   "cell_type": "code",
   "execution_count": 5,
   "metadata": {},
   "outputs": [
    {
     "data": {
      "text/plain": [
       "681"
      ]
     },
     "execution_count": 5,
     "metadata": {},
     "output_type": "execute_result"
    }
   ],
   "source": [
    "height"
   ]
  },
  {
   "cell_type": "code",
   "execution_count": 10,
   "metadata": {},
   "outputs": [
    {
     "data": {
      "text/plain": [
       "True"
      ]
     },
     "execution_count": 10,
     "metadata": {},
     "output_type": "execute_result"
    }
   ],
   "source": [
    "import cv2\n",
    "import numpy as np\n",
    "\n",
    "# Load the image\n",
    "image_path = 'fish.jpg'\n",
    "image = cv2.imread(image_path)\n",
    "\n",
    "# Convert the image to RGB (OpenCV loads images in BGR format)\n",
    "image_rgb = cv2.cvtColor(image, cv2.COLOR_BGR2RGB)\n",
    "\n",
    "# Define the color range for the orange ball more precisely\n",
    "lower_orange = np.array([0, 200, 200])\n",
    "upper_orange = np.array([255, 255, 255])\n",
    "\n",
    "# Convert the image to HSV color space\n",
    "image_hsv = cv2.cvtColor(image_rgb, cv2.COLOR_RGB2HSV)\n",
    "cv2.imwrite(\"input_hsv.png\", cv2.cvtColor(image_hsv, cv2.COLOR_HSV2RGB)) \n",
    "\n",
    "# Create a mask for the orange color\n",
    "mask_orange = cv2.inRange(image_hsv, lower_orange, upper_orange)\n",
    "\n",
    "# Apply morphological transformations to remove small noise\n",
    "kernel = np.ones((9, 9), np.uint8)\n",
    "mask_orange = cv2.morphologyEx(mask_orange, cv2.MORPH_CLOSE, kernel)\n",
    "mask_orange = cv2.morphologyEx(mask_orange, cv2.MORPH_OPEN, kernel)\n",
    "\n",
    "# Optionally, apply a manual mask to keep only the ball\n",
    "contours, _ = cv2.findContours(mask_orange, cv2.RETR_EXTERNAL, cv2.CHAIN_APPROX_SIMPLE)\n",
    "for contour in contours:\n",
    "    if cv2.contourArea(contour) > 1000:  # Adjust the area threshold as needed\n",
    "        cv2.drawContours(mask_orange, [contour], -1, (255), thickness=cv2.FILLED)\n",
    "\n",
    "# Define the green color in HSV (Hue, Saturation, Value)\n",
    "green = np.uint8([[[0, 255, 0]]])\n",
    "green_hsv = cv2.cvtColor(green, cv2.COLOR_RGB2HSV)[0][0]\n",
    "\n",
    "# Change the orange color to green in the HSV image\n",
    "image_hsv[mask_orange > 0] = green_hsv\n",
    "\n",
    "# Convert the HSV image back to RGB\n",
    "image_rgb_green = cv2.cvtColor(image_hsv, cv2.COLOR_HSV2RGB)\n",
    "cv2.imwrite(\"output.png\", cv2.cvtColor(image_rgb_green, cv2.COLOR_BGR2RGB)) "
   ]
  }
 ],
 "metadata": {
  "kernelspec": {
   "display_name": "Python 3",
   "language": "python",
   "name": "python3"
  },
  "language_info": {
   "codemirror_mode": {
    "name": "ipython",
    "version": 3
   },
   "file_extension": ".py",
   "mimetype": "text/x-python",
   "name": "python",
   "nbconvert_exporter": "python",
   "pygments_lexer": "ipython3",
   "version": "3.8.10"
  }
 },
 "nbformat": 4,
 "nbformat_minor": 2
}
