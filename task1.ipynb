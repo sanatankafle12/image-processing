{
 "cells": [
  {
   "cell_type": "code",
   "execution_count": 1,
   "metadata": {},
   "outputs": [],
   "source": [
    "import cv2\n",
    "import numpy as np"
   ]
  },
  {
   "cell_type": "code",
   "execution_count": 2,
   "metadata": {},
   "outputs": [],
   "source": [
    "image = cv2.imread('images/circle.jpg')"
   ]
  },
  {
   "cell_type": "code",
   "execution_count": 3,
   "metadata": {},
   "outputs": [],
   "source": [
    "width, height = image.shape[:2]"
   ]
  },
  {
   "cell_type": "code",
   "execution_count": 4,
   "metadata": {},
   "outputs": [],
   "source": [
    "center_x = width//2\n",
    "center_y = height//2"
   ]
  },
  {
   "cell_type": "code",
   "execution_count": 5,
   "metadata": {},
   "outputs": [
    {
     "name": "stdout",
     "output_type": "stream",
     "text": [
      "0\n"
     ]
    }
   ],
   "source": [
    "for y in range(height):\n",
    "# Get pixel value (assuming BGR format)\n",
    "    pixel = image[y, center_x]\n",
    "    # Check for significant change in pixel value (adjust threshold if needed)\n",
    "    if np.sum(np.abs(pixel - [255, 255, 255])) > 50:  # Check difference from white\n",
    "        # Found the edge of the circle (assuming white background)\n",
    "        print(y)\n",
    "        edge_y = y\n",
    "        break\n",
    "\n",
    "# Move down from the edge to find the other side of the circle\n",
    "for y in range(edge_y + 1, height):\n",
    "    pixel = image[y, center_x]\n",
    "    if np.sum(np.abs(pixel - [255, 255, 255])) > 50:\n",
    "        # Found the other edge of the circle\n",
    "        break_y = y\n",
    "        break"
   ]
  },
  {
   "cell_type": "code",
   "execution_count": 6,
   "metadata": {},
   "outputs": [],
   "source": [
    "if 'edge_y' in locals() and 'break_y' in locals():\n",
    "# Calculate estimated radius as half the distance between edges\n",
    "    large_radius = (break_y - edge_y) // 2\n"
   ]
  },
  {
   "cell_type": "code",
   "execution_count": 7,
   "metadata": {},
   "outputs": [],
   "source": [
    "import cv2\n",
    "import numpy as np\n",
    "\n",
    "\n",
    "# Create a blank canvas\n",
    "image = np.ones((height, width, 3), dtype=np.uint8) * 255  # Set background to white\n",
    "\n",
    "# Set the value of 'x' to determine the radius of the smaller circles\n",
    "x = 7\n",
    "small_radius = int(large_radius / x)\n",
    "\n",
    "# Calculate the positions of the smaller circles\n",
    "center_x = width // 2\n",
    "center_y = height // 2\n",
    "left_center = (center_x - large_radius - small_radius, center_y)\n",
    "right_center = (center_x + large_radius + small_radius, center_y)\n",
    "top_center = (center_x, center_y - large_radius - small_radius)\n",
    "bottom_center = (center_x, center_y + large_radius + small_radius)\n",
    "\n",
    "# Draw the smaller circles\n",
    "cv2.circle(image, left_center, small_radius, (0, 0, 0), 2)\n",
    "cv2.circle(image, right_center, small_radius, (0, 0, 0), 2)\n",
    "cv2.circle(image, top_center, small_radius, (0, 0, 0), 2)\n",
    "cv2.circle(image, bottom_center, small_radius, (0, 0, 0), 2)\n",
    "\n",
    "# Draw the large circle\n",
    "cv2.circle(image, (center_x, center_y), large_radius, (0, 0, 0), 2)\n",
    "\n",
    "# Display the image\n",
    "cv2.imshow('Generated Image', image)\n",
    "cv2.waitKey(0)\n",
    "cv2.destroyAllWindows()"
   ]
  }
 ],
 "metadata": {
  "kernelspec": {
   "display_name": "Python 3",
   "language": "python",
   "name": "python3"
  },
  "language_info": {
   "codemirror_mode": {
    "name": "ipython",
    "version": 3
   },
   "file_extension": ".py",
   "mimetype": "text/x-python",
   "name": "python",
   "nbconvert_exporter": "python",
   "pygments_lexer": "ipython3",
   "version": "3.8.10"
  }
 },
 "nbformat": 4,
 "nbformat_minor": 2
}
