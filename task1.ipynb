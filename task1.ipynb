{
 "cells": [
  {
   "cell_type": "code",
   "execution_count": 6,
   "metadata": {},
   "outputs": [
    {
     "data": {
      "text/plain": [
       "True"
      ]
     },
     "execution_count": 6,
     "metadata": {},
     "output_type": "execute_result"
    }
   ],
   "source": [
    "import cv2\n",
    "import numpy as np\n",
    "\n",
    "def find_circle_radius(image_path):\n",
    "  \"\"\"\n",
    "  Finds the radius of a black circle in a white image using pixel value change.\n",
    "\n",
    "  Args:\n",
    "      image_path (str): Path to the image file.\n",
    "\n",
    "  Returns:\n",
    "      float: The estimated radius of the black circle, or None if no circle is found.\n",
    "  \"\"\"\n",
    "\n",
    "  # Read the image\n",
    "  image = cv2.imread(image_path)\n",
    "\n",
    "  # Get image height and half width (assuming circle bis centered)\n",
    "  height, width, _ = image.shape\n",
    "  center_x = width // 2\n",
    "\n",
    "  # Iterate through the center line (half width) from top to bottom\n",
    "  for y in range(height):\n",
    "    # Get pixel value (assuming BGR format)\n",
    "    pixel = image[y, center_x]\n",
    "\n",
    "    # Check for significant change in pixel value (adjust threshold if needed)\n",
    "    if np.sum(np.abs(pixel - [255, 255, 255])) > 50:  # Check difference from white\n",
    "      # Found the edge of the circle (assuming white background)\n",
    "      edge_y = y\n",
    "      break\n",
    "\n",
    "  # Move down from the edge to find the other side of the circle\n",
    "  for y in range(edge_y + 1, height):\n",
    "    pixel = image[y, center_x]\n",
    "    if np.sum(np.abs(pixel - [255, 255, 255])) > 50:\n",
    "      # Found the other edge of the circle\n",
    "      break_y = y\n",
    "      break\n",
    "\n",
    "  # Check if both edges were found\n",
    "  if 'edge_y' in locals() and 'break_y' in locals():\n",
    "    # Calculate estimated radius as half the distance between edges\n",
    "    radius = (break_y - edge_y) // 2\n",
    "    return radius\n",
    "  else:\n",
    "    # No circle found (or edges not detected)\n",
    "    return None\n",
    "\n",
    "# Example usage (replace with your image path)\n",
    "image_path = \"circle.jpg\"\n",
    "radius = find_circle_radius(image_path)\n",
    "\n",
    "if radius:\n",
    "  print(\"Estimated circle radius:\", radius)\n",
    "else:\n",
    "  print(\"No circle found in the image.\")"
   ]
  }
 ],
 "metadata": {
  "kernelspec": {
   "display_name": "Python 3",
   "language": "python",
   "name": "python3"
  },
  "language_info": {
   "codemirror_mode": {
    "name": "ipython",
    "version": 3
   },
   "file_extension": ".py",
   "mimetype": "text/x-python",
   "name": "python",
   "nbconvert_exporter": "python",
   "pygments_lexer": "ipython3",
   "version": "3.8.10"
  }
 },
 "nbformat": 4,
 "nbformat_minor": 2
}
