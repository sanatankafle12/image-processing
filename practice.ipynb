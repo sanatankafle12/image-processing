{
 "cells": [
  {
   "cell_type": "code",
   "execution_count": 8,
   "metadata": {},
   "outputs": [],
   "source": [
    "import cv2\n",
    "\n",
    "# Define image dimensions (you can adjust these as needed)\n",
    "image_width = 500\n",
    "image_height = 400\n",
    "\n",
    "# Create a new blank image with white background (BGR format)\n",
    "image = np.zeros((image_height, image_width, 3), dtype=np.uint8)\n",
    "image.fill(255)  # Fill with white color (255 for all channels in BGR)\n",
    "\n",
    "# Define circle center coordinates (adjust these for desired placement)\n",
    "center_coordinates = [\n",
    "    (image_width // 3, image_height // 2),  # Top-left\n",
    "    (image_width * 2 // 3, image_height // 2),  # Top-right\n",
    "    (image_width // 3, image_height * 2 // 3),  # Bottom-left\n",
    "    (image_width * 2 // 3, image_height * 2 // 3)   # Bottom-right\n",
    "]\n",
    "\n",
    "# Define circle radius\n",
    "radius = 20\n",
    "\n",
    "# Define color for circle fill (white) and border (black)\n",
    "circle_color = (255, 255, 255)  # White (already defined for filling)\n",
    "border_color = (0, 0, 0)  # Black\n",
    "border_thickness = 2  # Thickness of the circle border in pixels\n",
    "\n",
    "# Draw the circles on the image\n",
    "for center in center_coordinates:\n",
    "    cv2.circle(image, center, radius, circle_color, -1, border_thickness)\n",
    "# Display the image with circles\n",
    "cv2.imshow('Image with Circles', image)\n",
    "\n",
    "# Wait for a key press to close the window\n",
    "cv2.waitKey(0)\n",
    "cv2.destroyAllWindows()\n"
   ]
  }
 ],
 "metadata": {
  "kernelspec": {
   "display_name": "Python 3",
   "language": "python",
   "name": "python3"
  },
  "language_info": {
   "codemirror_mode": {
    "name": "ipython",
    "version": 3
   },
   "file_extension": ".py",
   "mimetype": "text/x-python",
   "name": "python",
   "nbconvert_exporter": "python",
   "pygments_lexer": "ipython3",
   "version": "3.8.10"
  }
 },
 "nbformat": 4,
 "nbformat_minor": 2
}
